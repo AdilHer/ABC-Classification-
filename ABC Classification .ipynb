{
 "cells": [
  {
   "cell_type": "code",
   "execution_count": null,
   "id": "6e697248",
   "metadata": {},
   "outputs": [],
   "source": [
    "# User Story 2 As a Logistics Manager, I wish to get a ABC Classification analisys \n",
    "#    in order to make decision on the sku position within the warehouses.\n",
    "\n",
    "# Acceptance criteria 1: ABC Classification based on \"Sales Forecast\"\n",
    "# Acceptance criteria 2 : A (60%) - B (30%) - C (10%)\n",
    "# Acceptance criteria 3 : Please create a Pivot table to display how many units of inventory of A-B-C we are currently holding.\n"
   ]
  },
  {
   "cell_type": "code",
   "execution_count": 24,
   "id": "47557feb",
   "metadata": {},
   "outputs": [
    {
     "name": "stdout",
     "output_type": "stream",
     "text": [
      "          Week     SKU  Qty\n",
      "0   2022-09-19  278302 -105\n",
      "1   2022-09-26  278302 -105\n",
      "2   2022-10-03  278302 -107\n",
      "3   2022-10-10  278302 -107\n",
      "4   2022-10-17  278302 -107\n",
      "..         ...     ...  ...\n",
      "219 2023-03-27  777126   -4\n",
      "220 2023-04-03  777126   -5\n",
      "221 2023-04-10  777126   -5\n",
      "222 2023-04-17  777126   -5\n",
      "223 2023-04-24  777126   -5\n",
      "\n",
      "[224 rows x 3 columns]\n"
     ]
    }
   ],
   "source": [
    "#  To get the dat from our file\n",
    "\n",
    "import pandas as pd\n",
    "\n",
    "# Read excel file with sheet name\n",
    "dict_df = pd.read_excel('test.xlsx', \n",
    "                   sheet_name=['Starting Inventory','Planned Reception','Sales Forecast'])\n",
    "\n",
    "# Get DataFrame from Dict\n",
    "Sales_Forecast_df = dict_df.get('Sales Forecast')\n",
    "\n",
    "# Print DataFrame's\n",
    "print(Sales_Forecast_df)\n"
   ]
  },
  {
   "cell_type": "code",
   "execution_count": 25,
   "id": "db305fc3",
   "metadata": {},
   "outputs": [
    {
     "name": "stdout",
     "output_type": "stream",
     "text": [
      "          Week     SKU  Qty  Qty_abs\n",
      "0   2022-09-19  278302 -105      105\n",
      "1   2022-09-26  278302 -105      105\n",
      "2   2022-10-03  278302 -107      107\n",
      "3   2022-10-10  278302 -107      107\n",
      "4   2022-10-17  278302 -107      107\n",
      "..         ...     ...  ...      ...\n",
      "219 2023-03-27  777126   -4        4\n",
      "220 2023-04-03  777126   -5        5\n",
      "221 2023-04-10  777126   -5        5\n",
      "222 2023-04-17  777126   -5        5\n",
      "223 2023-04-24  777126   -5        5\n",
      "\n",
      "[224 rows x 4 columns]\n"
     ]
    }
   ],
   "source": [
    "# To convirte the quantity to a positive value we get the column Qty_abs \n",
    "Sales_Forecast_df['Qty_abs'] = Sales_Forecast_df['Qty'].abs()\n",
    "print(Sales_Forecast_df)"
   ]
  },
  {
   "cell_type": "code",
   "execution_count": 26,
   "id": "202e19c6",
   "metadata": {},
   "outputs": [
    {
     "name": "stdout",
     "output_type": "stream",
     "text": [
      "<class 'pandas.core.frame.DataFrame'>\n",
      "RangeIndex: 224 entries, 0 to 223\n",
      "Data columns (total 4 columns):\n",
      " #   Column   Non-Null Count  Dtype         \n",
      "---  ------   --------------  -----         \n",
      " 0   Week     224 non-null    datetime64[ns]\n",
      " 1   SKU      224 non-null    int64         \n",
      " 2   Qty      224 non-null    int64         \n",
      " 3   Qty_abs  224 non-null    int64         \n",
      "dtypes: datetime64[ns](1), int64(3)\n",
      "memory usage: 7.1 KB\n"
     ]
    }
   ],
   "source": [
    "# Some information about the type of our columns \n",
    "Sales_Forecast_df.info()\n",
    "# We see that we have 224 ligne and 4 columns ther is no missing value and the type of columns datetime and integr"
   ]
  },
  {
   "cell_type": "code",
   "execution_count": 27,
   "id": "7bb4a951",
   "metadata": {},
   "outputs": [],
   "source": [
    "# We change the name of our dataframe \n",
    "df = Sales_Forecast_df"
   ]
  },
  {
   "cell_type": "code",
   "execution_count": 28,
   "id": "6729d228",
   "metadata": {},
   "outputs": [
    {
     "name": "stdout",
     "output_type": "stream",
     "text": [
      "We have :  224 lines for 7 SKUs\n"
     ]
    }
   ],
   "source": [
    "print(\"We have : \",\"{:,} lines for {:,} SKUs\".format(len(df), df.SKU.nunique()))"
   ]
  },
  {
   "cell_type": "code",
   "execution_count": 47,
   "id": "d836d900",
   "metadata": {},
   "outputs": [
    {
     "name": "stdout",
     "output_type": "stream",
     "text": [
      "Pareto Analysis for 7 unique SKU\n"
     ]
    },
    {
     "data": {
      "text/html": [
       "<div>\n",
       "<style scoped>\n",
       "    .dataframe tbody tr th:only-of-type {\n",
       "        vertical-align: middle;\n",
       "    }\n",
       "\n",
       "    .dataframe tbody tr th {\n",
       "        vertical-align: top;\n",
       "    }\n",
       "\n",
       "    .dataframe thead th {\n",
       "        text-align: right;\n",
       "    }\n",
       "</style>\n",
       "<table border=\"1\" class=\"dataframe\">\n",
       "  <thead>\n",
       "    <tr style=\"text-align: right;\">\n",
       "      <th></th>\n",
       "      <th>SKU</th>\n",
       "      <th>Qty_abs</th>\n",
       "      <th>CumSum</th>\n",
       "      <th>%CumSum</th>\n",
       "      <th>%SKU</th>\n",
       "    </tr>\n",
       "  </thead>\n",
       "  <tbody>\n",
       "    <tr>\n",
       "      <th>0</th>\n",
       "      <td>278302</td>\n",
       "      <td>2803</td>\n",
       "      <td>2803</td>\n",
       "      <td>42.722146</td>\n",
       "      <td>14.285714</td>\n",
       "    </tr>\n",
       "    <tr>\n",
       "      <th>1</th>\n",
       "      <td>684023</td>\n",
       "      <td>1594</td>\n",
       "      <td>4397</td>\n",
       "      <td>67.017223</td>\n",
       "      <td>28.571429</td>\n",
       "    </tr>\n",
       "    <tr>\n",
       "      <th>2</th>\n",
       "      <td>189672</td>\n",
       "      <td>1126</td>\n",
       "      <td>5523</td>\n",
       "      <td>84.179241</td>\n",
       "      <td>42.857143</td>\n",
       "    </tr>\n",
       "    <tr>\n",
       "      <th>3</th>\n",
       "      <td>169306</td>\n",
       "      <td>427</td>\n",
       "      <td>5950</td>\n",
       "      <td>90.687395</td>\n",
       "      <td>57.142857</td>\n",
       "    </tr>\n",
       "    <tr>\n",
       "      <th>4</th>\n",
       "      <td>115222</td>\n",
       "      <td>290</td>\n",
       "      <td>6240</td>\n",
       "      <td>95.107453</td>\n",
       "      <td>71.428571</td>\n",
       "    </tr>\n",
       "    <tr>\n",
       "      <th>5</th>\n",
       "      <td>795058</td>\n",
       "      <td>206</td>\n",
       "      <td>6446</td>\n",
       "      <td>98.247218</td>\n",
       "      <td>85.714286</td>\n",
       "    </tr>\n",
       "    <tr>\n",
       "      <th>6</th>\n",
       "      <td>777126</td>\n",
       "      <td>115</td>\n",
       "      <td>6561</td>\n",
       "      <td>100.000000</td>\n",
       "      <td>100.000000</td>\n",
       "    </tr>\n",
       "  </tbody>\n",
       "</table>\n",
       "</div>"
      ],
      "text/plain": [
       "      SKU  Qty_abs  CumSum     %CumSum        %SKU\n",
       "0  278302     2803    2803   42.722146   14.285714\n",
       "1  684023     1594    4397   67.017223   28.571429\n",
       "2  189672     1126    5523   84.179241   42.857143\n",
       "3  169306      427    5950   90.687395   57.142857\n",
       "4  115222      290    6240   95.107453   71.428571\n",
       "5  795058      206    6446   98.247218   85.714286\n",
       "6  777126      115    6561  100.000000  100.000000"
      ]
     },
     "execution_count": 47,
     "metadata": {},
     "output_type": "execute_result"
    }
   ],
   "source": [
    "#Pareto Analysis\n",
    "\n",
    "# Sum the Qty picked per SKU \n",
    "df_par = pd.DataFrame(df.groupby(['SKU'])['Qty_abs'].sum())\n",
    "df_par.columns = ['Qty_abs']\n",
    "\n",
    "# Sort the data frame by descending\n",
    "df_par.sort_values(['Qty_abs'], ascending = False, inplace = True)\n",
    "df_par.reset_index(inplace = True)\n",
    "\n",
    "# Cumulative Sum of Qty\n",
    "df_par['CumSum'] = df_par['Qty_abs'].cumsum()\n",
    "\n",
    "# % CumSum\n",
    "df_par['%CumSum'] = (100 * df_par['CumSum']/df_par['Qty_abs'].sum())\n",
    "\n",
    "# Calculate the cumulative number of SKU and the % SKU\n",
    "df_par['%SKU'] = (100 * (df_par.index + 1).astype(float)/(df_par.index.max() + 1))\n",
    "\n",
    "# > 80% Volume\n",
    "df_par80 = df_par[df_par['%CumSum'] > 80].copy()\n",
    "perc_sku80 = df_par80['%SKU'].min()\n",
    "perc_sum80 = df_par80['%CumSum'].min()\n",
    "\n",
    "# 20% SKU\n",
    "df_sku20 = df_par[df_par['%SKU'] > 20].copy()\n",
    "perc_sku20 = df_sku20['%SKU'].min()\n",
    "perc_sum20 = df_sku20['%CumSum'].min()\n",
    "\n",
    "# 10% SKU\n",
    "df_sku5 = df_par[df_par['%SKU'] > 10].copy()\n",
    "perc_sku5 = df_sku5['%SKU'].min()\n",
    "perc_sum5 = df_sku5['%CumSum'].min()\n",
    "\n",
    "print(\"Pareto Analysis for {:,} unique SKU\".format(len(df_par)))\n",
    "df_par.head(7)"
   ]
  },
  {
   "cell_type": "code",
   "execution_count": 69,
   "id": "6814f209",
   "metadata": {},
   "outputs": [
    {
     "data": {
      "image/png": "[encoded data removed]",
      "text/plain": [
       "<Figure size 1080x720 with 1 Axes>"
      ]
     },
     "metadata": {
      "needs_background": "light"
     },
     "output_type": "display_data"
    }
   ],
   "source": [
    "import matplotlib.pyplot as plt\n",
    "\n",
    "# Visualization\n",
    "\n",
    "ax = df_par.plot(x='%SKU', y='%CumSum', figsize = (15,10))\n",
    "plt.xlabel('Percentage of SKU (%)',fontsize=15)\n",
    "plt.ylabel('Percentage of Qty (%)',fontsize=15)\n",
    "plt.title('Pareto Analysis using Cumulative Sum of Qty Prepared (%) = f(%SKU)', fontsize = 15)\n",
    "\n",
    "# Add Markers for 80/20\n",
    "\n",
    "#Marker 1: x = 20% of Qty (blue)\n",
    "#Marker 2: y = 80% of Boxes (red)\n",
    "\n",
    "# 5% SKU\n",
    "ax.axhline(perc_sum5 , color=\"black\", linestyle=\"--\", linewidth = 1.0)\n",
    "ax.axvline(perc_sku5, color=\"black\", linestyle=\"--\", linewidth = 1.0)\n",
    "\n",
    "# 80% Volume\n",
    "ax.axhline(perc_sum80 , color=\"red\", linestyle=\"--\", linewidth = 1.0)\n",
    "ax.axvline(perc_sku80, color=\"red\", linestyle=\"--\", linewidth = 1.0)\n",
    "\n",
    "# 20% SKU\n",
    "ax.axhline(perc_sum20 , color=\"blue\", linestyle=\"--\", linewidth = 1.0)\n",
    "ax.axvline(perc_sku20, color=\"blue\", linestyle=\"--\", linewidth = 1.0)\n",
    "plt.show()"
   ]
  },
  {
   "cell_type": "code",
   "execution_count": null,
   "id": "01976e8c",
   "metadata": {},
   "outputs": [],
   "source": [
    "# Acceptance criteria 1: ABC Classification based on \"Sales Forecast\"\n",
    "\n",
    "# Insights\n",
    "# We can see that the threshold of 84% volume is reached with 43% of SKU\n",
    "# we use these insights to increase our picking productivity\n",
    "# by making a representation of the Pareto to link each SKU with its picking location\n",
    "# then reduce the average distance during picking by grouping very high rotations\n",
    "#      in a specific zone that is closed to the docks\n",
    "# we can make the ABC Classification analisys for each week to have an up-to-date classification \n",
    "\n",
    "# Acceptance criteria 2 : A (60%) - B (30%) - C (10%)\n",
    "\n",
    "# We see that the SKU 278302 constitutes 60% of volume \n",
    "# We see that the SKU 684023 and the SKU 189672 constitutes 30% of volume \n",
    "# We see that the SKU 169306 115222 795058 777126 constitutes 10% of volume \n"
   ]
  },
  {
   "cell_type": "code",
   "execution_count": null,
   "id": "4e8ea2d2",
   "metadata": {},
   "outputs": [],
   "source": [
    "#  Acceptance criteria 3 : Please create a Pivot table to display how many units of inventory of A-B-C \n",
    "#  we are currently holding."
   ]
  },
  {
   "cell_type": "code",
   "execution_count": 52,
   "id": "ba84da42",
   "metadata": {},
   "outputs": [
    {
     "name": "stdout",
     "output_type": "stream",
     "text": [
      "        Week     SKU   Qty\n",
      "0 2022-09-12  278302  2618\n",
      "1 2022-09-12  189672   292\n",
      "2 2022-09-12  115222   163\n",
      "3 2022-09-12  684023  1466\n",
      "4 2022-09-12  795058     0\n",
      "5 2022-09-12  169306   266\n",
      "6 2022-09-12  777126     0\n"
     ]
    }
   ],
   "source": [
    "# Get DataFrame from Dict\n",
    "Starting_Inventory_df = dict_df.get('Starting Inventory')\n",
    "# Print DataFrame's\n",
    "print(Starting_Inventory_df)"
   ]
  },
  {
   "cell_type": "code",
   "execution_count": 58,
   "id": "993c59a2",
   "metadata": {},
   "outputs": [
    {
     "name": "stdout",
     "output_type": "stream",
     "text": [
      "      SKU  Qty_abs  CumSum     %CumSum        %SKU Class\n",
      "0  278302     2803    2803   42.722146   14.285714     A\n",
      "1  684023     1594    4397   67.017223   28.571429     B\n",
      "2  189672     1126    5523   84.179241   42.857143     B\n",
      "3  169306      427    5950   90.687395   57.142857     C\n",
      "4  115222      290    6240   95.107453   71.428571     C\n",
      "5  795058      206    6446   98.247218   85.714286     C\n",
      "6  777126      115    6561  100.000000  100.000000     C\n"
     ]
    }
   ],
   "source": [
    "# Fonction to link the SKU with the Class\n",
    "def f(row):\n",
    "    if row['%CumSum'] < 60:\n",
    "         return \"A\"\n",
    "    elif row['%CumSum'] > 90:\n",
    "         return \"C\"\n",
    "    else:\n",
    "         return \"B\"\n",
    "    return val\n",
    "df_par['Class'] = df_par.apply(f, axis=1)\n",
    "print(df_par)"
   ]
  },
  {
   "cell_type": "code",
   "execution_count": 61,
   "id": "3420dd78",
   "metadata": {},
   "outputs": [
    {
     "name": "stdout",
     "output_type": "stream",
     "text": [
      "      SKU Class\n",
      "0  278302     A\n",
      "1  684023     B\n",
      "2  189672     B\n",
      "3  169306     C\n",
      "4  115222     C\n",
      "5  795058     C\n",
      "6  777126     C\n"
     ]
    }
   ],
   "source": [
    "# A dataframe of Class \n",
    "df_Class = df_par.drop(columns=['Qty_abs', 'CumSum','%CumSum','%SKU'])\n",
    "print(df_Class)"
   ]
  },
  {
   "cell_type": "code",
   "execution_count": 62,
   "id": "ec981e07",
   "metadata": {},
   "outputs": [
    {
     "name": "stdout",
     "output_type": "stream",
     "text": [
      "        Week     SKU   Qty Class\n",
      "0 2022-09-12  278302  2618     A\n",
      "1 2022-09-12  189672   292     B\n",
      "2 2022-09-12  115222   163     C\n",
      "3 2022-09-12  684023  1466     B\n",
      "4 2022-09-12  795058     0     C\n",
      "5 2022-09-12  169306   266     C\n",
      "6 2022-09-12  777126     0     C\n"
     ]
    }
   ],
   "source": [
    "# A dataframe of Class and The Qty on hand\n",
    "df_merge = pd.merge(Starting_Inventory_df,df_Class,on = 'SKU', how='left')\n",
    "print(df_merge)"
   ]
  },
  {
   "cell_type": "code",
   "execution_count": 67,
   "id": "c013ae13",
   "metadata": {},
   "outputs": [
    {
     "name": "stdout",
     "output_type": "stream",
     "text": [
      "        Qty\n",
      "Class      \n",
      "A      2618\n",
      "B      1758\n",
      "C       429\n"
     ]
    }
   ],
   "source": [
    "# Pivot table to display how many units of inventory of A-B-C we are currently holding\n",
    "df_Class_Holding = pd.DataFrame(df_merge.groupby(['Class'])['Qty'].sum())\n",
    "print(df_Class_Holding)"
   ]
  },
  {
   "cell_type": "code",
   "execution_count": null,
   "id": "b38b6342",
   "metadata": {},
   "outputs": [],
   "source": [
    "# We Hold 2618 pcs of Class A, 1758 of Class B and 429 of Class C"
   ]
  }
 ],
 "metadata": {
  "kernelspec": {
   "display_name": "Python 3 (ipykernel)",
   "language": "python",
   "name": "python3"
  },
  "language_info": {
   "codemirror_mode": {
    "name": "ipython",
    "version": 3
   },
   "file_extension": ".py",
   "mimetype": "text/x-python",
   "name": "python",
   "nbconvert_exporter": "python",
   "pygments_lexer": "ipython3",
   "version": "3.9.7"
  }
 },
 "nbformat": 4,
 "nbformat_minor": 5
}
